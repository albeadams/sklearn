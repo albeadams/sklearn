{
 "cells": [
  {
   "cell_type": "code",
   "execution_count": 1,
   "metadata": {},
   "outputs": [],
   "source": [
    "# see data/crime/communities.names for information on this data (from UCI repository)\n",
    "import numpy as np\n",
    "import pandas as pd\n",
    "import matplotlib.pyplot as plt\n",
    "\n",
    "%matplotlib inline"
   ]
  },
  {
   "cell_type": "code",
   "execution_count": 2,
   "metadata": {},
   "outputs": [],
   "source": [
    "crime_data = np.genfromtxt(\"data/crime/communities.data\",delimiter=\",\")\n",
    "# delete columns for county, community and community name due to missing data and low predictive quality\n",
    "# remove stats relating to police - around 85% missing data\n",
    "arr1 = np.array([1,2,3])\n",
    "arr2 = np.arange(101,118,1)\n",
    "arr3 = np.arange(121,125,1)\n",
    "arr = np.concatenate([arr1,arr2,arr3,[126]])\n",
    "crime_data_r = np.delete(crime_data, arr,axis=1)"
   ]
  },
  {
   "cell_type": "code",
   "execution_count": 3,
   "metadata": {},
   "outputs": [],
   "source": [
    "#create test set (borrowed from Hands on Machine Learning with Scikit-Learn...)\n",
    "def split_train_test(data, test_ratio):\n",
    "    shuffled_indices = np.random.permutation(len(data))\n",
    "    test_set_size = int(len(data)*test_ratio)\n",
    "    test_indices = shuffled_indices[:test_set_size]\n",
    "    train_indices = shuffled_indices[test_set_size:]\n",
    "    return test_indices, train_indices"
   ]
  },
  {
   "cell_type": "code",
   "execution_count": 4,
   "metadata": {},
   "outputs": [],
   "source": [
    "np.random.seed(8211981) # set seed, data will never change\n",
    "test_slice, train_slice = split_train_test(crime_data_r, 0.2)\n",
    "test_set = crime_data_r[test_slice,:]  # TEST SET preserved\n",
    "train_set = crime_data_r[train_slice,:]"
   ]
  },
  {
   "cell_type": "code",
   "execution_count": 5,
   "metadata": {},
   "outputs": [],
   "source": [
    "train_set_c = train_set.copy() # duplicate training set"
   ]
  },
  {
   "cell_type": "code",
   "execution_count": 35,
   "metadata": {},
   "outputs": [],
   "source": [
    "x_train = train_set_c[:,:-1] #features\n",
    "y_train = train_set_c[:,-1] # predictions\n",
    "#train_pred_m = np.tile(train_pred[np.newaxis].transpose(), (1,train_var.shape[1])) # prediction matrix\n",
    "#train_coeff = np.corrcoef(train_var, train_pred_m)"
   ]
  },
  {
   "cell_type": "code",
   "execution_count": 36,
   "metadata": {},
   "outputs": [
    {
     "data": {
      "text/plain": [
       "((1596, 102), (1596,))"
      ]
     },
     "execution_count": 36,
     "metadata": {},
     "output_type": "execute_result"
    }
   ],
   "source": [
    "x_train.shape, y_train.shape"
   ]
  },
  {
   "cell_type": "code",
   "execution_count": 37,
   "metadata": {},
   "outputs": [
    {
     "data": {
      "text/plain": [
       "((4, 2), (4,))"
      ]
     },
     "execution_count": 37,
     "metadata": {},
     "output_type": "execute_result"
    }
   ],
   "source": [
    "X = np.array([[-1, -1], [-2, -1], [1, 1], [2, 1]])\n",
    "Y = np.array([1, 1, 2, 2])\n",
    "X.shape, Y.shape"
   ]
  },
  {
   "cell_type": "code",
   "execution_count": 39,
   "metadata": {},
   "outputs": [
    {
     "data": {
      "text/plain": [
       "SGDRegressor(alpha=0.0001, average=False, early_stopping=False, epsilon=0.1,\n",
       "       eta0=0.01, fit_intercept=True, l1_ratio=0.15,\n",
       "       learning_rate='invscaling', loss='squared_loss', max_iter=1000,\n",
       "       n_iter=None, n_iter_no_change=5, penalty='l2', power_t=0.25,\n",
       "       random_state=None, shuffle=True, tol=0.001, validation_fraction=0.1,\n",
       "       verbose=0, warm_start=False)"
      ]
     },
     "execution_count": 39,
     "metadata": {},
     "output_type": "execute_result"
    }
   ],
   "source": [
    "from sklearn.linear_model import SGDRegressor\n",
    "#from sklearn.preprocessing import StandardScaler\n",
    "\n",
    "sgd_reg = SGDRegressor(max_iter=1000, tol=1e-3)\n",
    "\n",
    "#x_scalar = StandardScaler()\n",
    "#x_train = x_scalar.fit_transform(x_train)\n",
    "\n",
    "sgd_reg.fit(x_train, y_train)"
   ]
  },
  {
   "cell_type": "code",
   "execution_count": 42,
   "metadata": {},
   "outputs": [
    {
     "data": {
      "text/plain": [
       "array([2.5e+01, 8.0e+00, 3.0e-02, 3.1e-01, 3.0e-02, 9.4e-01, 7.0e-02,\n",
       "       5.0e-02, 3.1e-01, 4.4e-01, 2.7e-01, 5.0e-01, 4.0e-02, 1.0e+00,\n",
       "       3.4e-01, 5.3e-01, 1.7e-01, 5.0e-01, 5.2e-01, 3.2e-01, 6.6e-01,\n",
       "       3.8e-01, 3.7e-01, 3.6e-01, 3.6e-01, 2.1e-01, 3.1e-01, 2.9e-01,\n",
       "       3.5e-01, 2.0e-02, 2.1e-01, 2.2e-01, 3.6e-01, 3.0e-01, 3.0e-01,\n",
       "       5.4e-01, 4.3e-01, 4.0e-01, 3.9e-01, 3.9e-01, 5.8e-01, 4.7e-01,\n",
       "       5.0e-01, 5.6e-01, 3.9e-01, 5.7e-01, 6.2e-01, 5.8e-01, 6.2e-01,\n",
       "       4.5e-01, 5.2e-01, 1.0e-02, 1.9e-01, 1.0e-02, 3.0e-01, 2.9e-01,\n",
       "       3.8e-01, 3.5e-01, 1.1e-01, 1.0e-01, 1.2e-01, 1.0e-01, 8.4e-01,\n",
       "       8.0e-02, 1.3e-01, 1.1e-01, 3.2e-01, 4.6e-01, 1.8e-01, 5.6e-01,\n",
       "       7.0e-02, 5.8e-01, 0.0e+00, 3.0e-02, 8.1e-01, 4.9e-01, 1.1e-01,\n",
       "       3.8e-01, 3.3e-01, 1.3e-01, 9.0e-02, 3.2e-01, 3.1e-01, 3.1e-01,\n",
       "       4.0e-01, 4.1e-01, 4.4e-01, 3.7e-01, 4.2e-01, 4.1e-01, 4.2e-01,\n",
       "       0.0e+00, 0.0e+00, 1.6e-01, 7.9e-01, 6.5e-01, 8.8e-01, 8.1e-01,\n",
       "       5.0e-02, 1.4e-01, 1.1e-01, 0.0e+00])"
      ]
     },
     "execution_count": 42,
     "metadata": {},
     "output_type": "execute_result"
    }
   ],
   "source": [
    "# -- state: US state (by number) - not counted as predictive above, but if considered, should be consided nominal (nominal)\n",
    "# -- fold: fold number for non-random 10 fold cross validation, potentially useful for debugging, paired tests - not predictive (numeric)\n",
    "# -- population: population for community: (numeric - decimal)\n",
    "# -- householdsize: mean people per household (numeric - decimal)\n",
    "# -- racepctblack: percentage of population that is african american (numeric - decimal)\n",
    "# -- racePctWhite: percentage of population that is caucasian (numeric - decimal)\n",
    "# -- racePctAsian: percentage of population that is of asian heritage (numeric - decimal)\n",
    "# -- racePctHisp: percentage of population that is of hispanic heritage (numeric - decimal)\n",
    "# -- agePct12t21: percentage of population that is 12-21 in age (numeric - decimal)\n",
    "# -- agePct12t29: percentage of population that is 12-29 in age (numeric - decimal)\n",
    "# -- agePct16t24: percentage of population that is 16-24 in age (numeric - decimal)\n",
    "# -- agePct65up: percentage of population that is 65 and over in age (numeric - decimal)\n",
    "# -- numbUrban: number of people living in areas classified as urban (numeric - decimal)\n",
    "# -- pctUrban: percentage of people living in areas classified as urban (numeric - decimal)\n",
    "# -- medIncome: median household income (numeric - decimal)\n",
    "# -- pctWWage: percentage of households with wage or salary income in 1989 (numeric - decimal)\n",
    "# -- pctWFarmSelf: percentage of households with farm or self employment income in 1989 (numeric - decimal)\n",
    "# -- pctWInvInc: percentage of households with investment / rent income in 1989 (numeric - decimal)\n",
    "# -- pctWSocSec: percentage of households with social security income in 1989 (numeric - decimal)\n",
    "# -- pctWPubAsst: percentage of households with public assistance income in 1989 (numeric - decimal)\n",
    "# -- pctWRetire: percentage of households with retirement income in 1989 (numeric - decimal)\n",
    "# -- medFamInc: median family income (differs from household income for non-family households) (numeric - decimal)\n",
    "# -- perCapInc: per capita income (numeric - decimal)\n",
    "# -- whitePerCap: per capita income for caucasians (numeric - decimal)\n",
    "# -- blackPerCap: per capita income for african americans (numeric - decimal)\n",
    "# -- indianPerCap: per capita income for native americans (numeric - decimal)\n",
    "# -- AsianPerCap: per capita income for people with asian heritage (numeric - decimal)\n",
    "# -- OtherPerCap: per capita income for people with 'other' heritage (numeric - decimal)\n",
    "# -- HispPerCap: per capita income for people with hispanic heritage (numeric - decimal)\n",
    "# -- NumUnderPov: number of people under the poverty level (numeric - decimal)\n",
    "# -- PctPopUnderPov: percentage of people under the poverty level (numeric - decimal)\n",
    "# -- PctLess9thGrade: percentage of people 25 and over with less than a 9th grade education (numeric - decimal)\n",
    "# -- PctNotHSGrad: percentage of people 25 and over that are not high school graduates (numeric - decimal)\n",
    "# -- PctBSorMore: percentage of people 25 and over with a bachelors degree or higher education (numeric - decimal)\n",
    "# -- PctUnemployed: percentage of people 16 and over, in the labor force, and unemployed (numeric - decimal)\n",
    "# -- PctEmploy: percentage of people 16 and over who are employed (numeric - decimal)\n",
    "# -- PctEmplManu: percentage of people 16 and over who are employed in manufacturing (numeric - decimal)\n",
    "# -- PctEmplProfServ: percentage of people 16 and over who are employed in professional services (numeric - decimal)\n",
    "# -- PctOccupManu: percentage of people 16 and over who are employed in manufacturing (numeric - decimal) ########\n",
    "# -- PctOccupMgmtProf: percentage of people 16 and over who are employed in management or professional occupations (numeric - decimal)\n",
    "# -- MalePctDivorce: percentage of males who are divorced (numeric - decimal)\n",
    "# -- MalePctNevMarr: percentage of males who have never married (numeric - decimal)\n",
    "# -- FemalePctDiv: percentage of females who are divorced (numeric - decimal)\n",
    "# -- TotalPctDiv: percentage of population who are divorced (numeric - decimal)\n",
    "# -- PersPerFam: mean number of people per family (numeric - decimal)\n",
    "# -- PctFam2Par: percentage of families (with kids) that are headed by two parents (numeric - decimal)\n",
    "# -- PctKids2Par: percentage of kids in family housing with two parents (numeric - decimal)\n",
    "# -- PctYoungKids2Par: percent of kids 4 and under in two parent households (numeric - decimal)\n",
    "# -- PctTeen2Par: percent of kids age 12-17 in two parent households (numeric - decimal)\n",
    "# -- PctWorkMomYoungKids: percentage of moms of kids 6 and under in labor force (numeric - decimal)\n",
    "# -- PctWorkMom: percentage of moms of kids under 18 in labor force (numeric - decimal)\n",
    "# -- NumIlleg: number of kids born to never married (numeric - decimal)\n",
    "# -- PctIlleg: percentage of kids born to never married (numeric - decimal)\n",
    "# -- NumImmig: total number of people known to be foreign born (numeric - decimal)\n",
    "# -- PctImmigRecent: percentage of _immigrants_ who immigated within last 3 years (numeric - decimal)\n",
    "# -- PctImmigRec5: percentage of _immigrants_ who immigated within last 5 years (numeric - decimal)\n",
    "# -- PctImmigRec8: percentage of _immigrants_ who immigated within last 8 years (numeric - decimal)\n",
    "# -- PctImmigRec10: percentage of _immigrants_ who immigated within last 10 years (numeric - decimal)\n",
    "# -- PctRecentImmig: percent of _population_ who have immigrated within the last 3 years (numeric - decimal)\n",
    "# -- PctRecImmig5: percent of _population_ who have immigrated within the last 5 years (numeric - decimal)\n",
    "# -- PctRecImmig8: percent of _population_ who have immigrated within the last 8 years (numeric - decimal)\n",
    "# -- PctRecImmig10: percent of _population_ who have immigrated within the last 10 years (numeric - decimal)\n",
    "# -- PctSpeakEnglOnly: percent of people who speak only English (numeric - decimal)\n",
    "# -- PctNotSpeakEnglWell: percent of people who do not speak English well (numeric - decimal)\n",
    "# -- PctLargHouseFam: percent of family households that are large (6 or more) (numeric - decimal)\n",
    "# -- PctLargHouseOccup: percent of all occupied households that are large (6 or more people) (numeric - decimal)\n",
    "# -- PersPerOccupHous: mean persons per household (numeric - decimal)\n",
    "# -- PersPerOwnOccHous: mean persons per owner occupied household (numeric - decimal)\n",
    "# -- PersPerRentOccHous: mean persons per rental household (numeric - decimal)\n",
    "# -- PctPersOwnOccup: percent of people in owner occupied households (numeric - decimal)\n",
    "# -- PctPersDenseHous: percent of persons in dense housing (more than 1 person per room) (numeric - decimal)\n",
    "# -- PctHousLess3BR: percent of housing units with less than 3 bedrooms (numeric - decimal)\n",
    "# -- MedNumBR: median number of bedrooms (numeric - decimal)\n",
    "# -- HousVacant: number of vacant households (numeric - decimal)\n",
    "# -- PctHousOccup: percent of housing occupied (numeric - decimal)\n",
    "# -- PctHousOwnOcc: percent of households owner occupied (numeric - decimal)\n",
    "# -- PctVacantBoarded: percent of vacant housing that is boarded up (numeric - decimal)\n",
    "# -- PctVacMore6Mos: percent of vacant housing that has been vacant more than 6 months (numeric - decimal)\n",
    "# -- MedYrHousBuilt: median year housing units built (numeric - decimal)\n",
    "# -- PctHousNoPhone: percent of occupied housing units without phone (in 1990, this was rare!) (numeric - decimal)\n",
    "# -- PctWOFullPlumb: percent of housing without complete plumbing facilities (numeric - decimal)\n",
    "# -- OwnOccLowQuart: owner occupied housing - lower quartile value (numeric - decimal)\n",
    "# -- OwnOccMedVal: owner occupied housing - median value (numeric - decimal)\n",
    "# -- OwnOccHiQuart: owner occupied housing - upper quartile value (numeric - decimal)\n",
    "# -- RentLowQ: rental housing - lower quartile rent (numeric - decimal)\n",
    "# -- RentMedian: rental housing - median rent (Census variable H32B from file STF1A) (numeric - decimal)\n",
    "# -- RentHighQ: rental housing - upper quartile rent (numeric - decimal)\n",
    "# -- MedRent: median gross rent (Census variable H43A from file STF3A - includes utilities) (numeric - decimal)\n",
    "# -- MedRentPctHousInc: median gross rent as a percentage of household income (numeric - decimal)\n",
    "# -- MedOwnCostPctInc: median owners cost as a percentage of household income - for owners with a mortgage (numeric - decimal)\n",
    "# -- MedOwnCostPctIncNoMtg: median owners cost as a percentage of household income - for owners without a mortgage (numeric - decimal)\n",
    "# -- NumInShelters: number of people in homeless shelters (numeric - decimal)\n",
    "# -- NumStreet: number of homeless people counted in the street (numeric - decimal)\n",
    "# -- PctForeignBorn: percent of people foreign born (numeric - decimal)\n",
    "# -- PctBornSameState: percent of people born in the same state as currently living (numeric - decimal)\n",
    "# -- PctSameHouse85: percent of people living in the same house as in 1985 (5 years before) (numeric - decimal)\n",
    "# -- PctSameCity85: percent of people living in the same city as in 1985 (5 years before) (numeric - decimal)\n",
    "# -- PctSameState85: percent of people living in the same state as in 1985 (5 years before) (numeric - decimal)\n",
    "# -- LandArea: land area in square miles (numeric - decimal)\n",
    "# -- PopDens: population density in persons per square mile (numeric - decimal)\n",
    "# -- PctUsePubTrans: percent of people using public transit for commuting (numeric - decimal)\n",
    "\n",
    "# TARGET\n",
    "# -- ViolentCrimesPerPop: total number of violent crimes per 100K popuation (numeric - decimal) GOAL attribute (to be predicted)\n",
    "\n",
    "state = \n",
    "fold = \n",
    "population = \n",
    "householdsize = \n",
    "racepctblack = \n",
    "racePctWhite = \n",
    "racePctAsian = \n",
    "racePctHisp = \n",
    "agePct12t21 = \n",
    "agePct12t29 = \n",
    "agePct16t24 = \n",
    "agePct65up = \n",
    "numbUrban = \n",
    "pctUrban = \n",
    "medIncome = \n",
    "pctWWage = \n",
    "pctWFarmSelf = \n",
    "pctWInvInc = \n",
    "pctWSocSec = \n",
    "pctWPubAsst = \n",
    "pctWRetire = \n",
    "medFamInc = \n",
    "perCapInc = \n",
    "whitePerCap = \n",
    "blackPerCap = \n",
    "indianPerCap = \n",
    "AsianPerCap = \n",
    "OtherPerCap = \n",
    "HispPerCap = \n",
    "NumUnderPov = \n",
    "PctPopUnderPov = \n",
    "PctLess9thGrade = \n",
    "PctNotHSGrad = \n",
    "PctBSorMore = \n",
    "PctUnemployed = \n",
    "PctEmploy = \n",
    "PctEmplManu = \n",
    "PctEmplProfServ = \n",
    "PctOccupManu = \n",
    "PctOccupMgmtProf = \n",
    "MalePctDivorce = \n",
    "MalePctNevMarr = \n",
    "FemalePctDiv = \n",
    "TotalPctDiv = \n",
    "PersPerFam = \n",
    "PctFam2Par = \n",
    "PctKids2Par = \n",
    "PctYoungKids2Par = \n",
    "PctTeen2Par = \n",
    "PctWorkMomYoungKids = \n",
    "PctWorkMom = \n",
    "NumIlleg = \n",
    "PctIlleg = \n",
    "NumImmig = \n",
    "PctImmigRecent = \n",
    "PctImmigRec5 = \n",
    "PctImmigRec8 = \n",
    "PctImmigRec10 = \n",
    "PctRecentImmig = \n",
    "PctRecImmig5 = \n",
    "PctRecImmig8 = \n",
    "PctRecImmig10 = \n",
    "PctSpeakEnglOnly = \n",
    "PctNotSpeakEnglWell = \n",
    "PctLargHouseFam = \n",
    "PctLargHouseOccup = \n",
    "PersPerOccupHous = \n",
    "PersPerOwnOccHous = \n",
    "PersPerRentOccHous = \n",
    "PctPersOwnOccup = \n",
    "PctPersDenseHous = \n",
    "PctHousLess3BR = \n",
    "MedNumBR = \n",
    "HousVacant = \n",
    "PctHousOccup = \n",
    "PctHousOwnOcc = \n",
    "PctVacantBoarded = \n",
    "PctVacMore6Mos = \n",
    "MedYrHousBuilt = \n",
    "PctHousNoPhone = \n",
    "PctWOFullPlumb = \n",
    "OwnOccLowQuart = \n",
    "OwnOccMedVal = \n",
    "OwnOccHiQuart = \n",
    "RentLowQ = \n",
    "RentMedian = \n",
    "RentHighQ = \n",
    "MedRent = \n",
    "MedRentPctHousInc = \n",
    "MedOwnCostPctInc = \n",
    "MedOwnCostPctIncNoMtg = \n",
    "NumInShelters = \n",
    "NumStreet = \n",
    "PctForeignBorn = \n",
    "PctBornSameState = \n",
    "PctSameHouse85 = \n",
    "PctSameCity85 = \n",
    "PctSameState85 = \n",
    "LandArea = \n",
    "PopDens = \n",
    "PctUsePubTrans = \n",
    "\n",
    "ViolentCrimesPerPop = "
   ]
  },
  {
   "cell_type": "code",
   "execution_count": null,
   "metadata": {},
   "outputs": [],
   "source": []
  }
 ],
 "metadata": {
  "kernelspec": {
   "display_name": "Python 3",
   "language": "python",
   "name": "python3"
  },
  "language_info": {
   "codemirror_mode": {
    "name": "ipython",
    "version": 3
   },
   "file_extension": ".py",
   "mimetype": "text/x-python",
   "name": "python",
   "nbconvert_exporter": "python",
   "pygments_lexer": "ipython3",
   "version": "3.7.2"
  }
 },
 "nbformat": 4,
 "nbformat_minor": 2
}
