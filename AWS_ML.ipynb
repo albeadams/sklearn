{
 "cells": [
  {
   "cell_type": "code",
   "execution_count": 1,
   "metadata": {},
   "outputs": [],
   "source": [
    "#Notebook for concepts taught in AWS's ML Data Science class"
   ]
  },
  {
   "cell_type": "markdown",
   "metadata": {},
   "source": [
    "$\n",
    "\\vec v  =\n",
    "\\begin{bmatrix}\n",
    "    0 & 1 & 2\n",
    "\\end{bmatrix}\n",
    "\\\\M =\n",
    "\\begin{bmatrix}\n",
    "    0 & 2 & 4 \\\\\n",
    "    1 & 3 & 5 \\\\\n",
    "    4 & 5 & 6\n",
    "\\end{bmatrix}\n",
    "$"
   ]
  },
  {
   "cell_type": "code",
   "execution_count": null,
   "metadata": {},
   "outputs": [],
   "source": []
  }
 ],
 "metadata": {
  "kernelspec": {
   "display_name": "Python 3",
   "language": "python",
   "name": "python3"
  },
  "language_info": {
   "codemirror_mode": {
    "name": "ipython",
    "version": 3
   },
   "file_extension": ".py",
   "mimetype": "text/x-python",
   "name": "python",
   "nbconvert_exporter": "python",
   "pygments_lexer": "ipython3",
   "version": "3.7.2"
  }
 },
 "nbformat": 4,
 "nbformat_minor": 2
}
