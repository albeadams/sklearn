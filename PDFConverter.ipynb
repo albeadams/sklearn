{
 "cells": [
  {
   "cell_type": "code",
   "execution_count": 18,
   "metadata": {},
   "outputs": [],
   "source": [
    "# modifying this tutorial: https://realpython.com/pdf-python/#how-to-merge-pdfs\n",
    "\n",
    "from PyPDF2 import PdfFileReader, PdfFileWriter\n",
    "import os"
   ]
  },
  {
   "cell_type": "code",
   "execution_count": 76,
   "metadata": {},
   "outputs": [],
   "source": [
    "def merge(files, output):\n",
    "    pdf_writer = PdfFileWriter()\n",
    "    \n",
    "    for file in files:\n",
    "        pdf_reader = PdfFileReader(file)\n",
    "        for page in range(pdf_reader.getNumPages()):\n",
    "            pdf_writer.addPage(pdf_reader.getPage(page))\n",
    "    \n",
    "    with open(output, 'wb') as out:\n",
    "        pdf_writer.write(out)"
   ]
  },
  {
   "cell_type": "code",
   "execution_count": 77,
   "metadata": {},
   "outputs": [],
   "source": [
    "# have 61 pdf files to merge, pdfs renamed 1.pdf through 61.pdf\n",
    "num_pdfs = 61\n",
    "pdf_names = []\n",
    "path = 'pdf_files'\n",
    "path = os.path.join(path, '')\n",
    "for i in range(1, num_pdfs+1):\n",
    "    name = path + str(i) + '.pdf'\n",
    "    name = name.replace(\"'\", \"\\\\\")\n",
    "    pdf_names.append(name)"
   ]
  },
  {
   "cell_type": "code",
   "execution_count": 109,
   "metadata": {},
   "outputs": [],
   "source": [
    "master_file = 'master.pdf'\n",
    "merge(pdf_names[0:2], master_file) # this would merge only first two files\n",
    "\n",
    "# after merging first two, the first file going forward will be this master.pdf file\n",
    "merged = [master_file]\n",
    "#next_pdf = pdf_names[2]\n",
    "merged.append('')\n",
    "\n",
    "for i in range(2, num_pdfs):\n",
    "    merged[1] = pdf_names[i]\n",
    "    merge(merged, master_file)"
   ]
  },
  {
   "cell_type": "code",
   "execution_count": null,
   "metadata": {},
   "outputs": [],
   "source": []
  }
 ],
 "metadata": {
  "kernelspec": {
   "display_name": "Python 3",
   "language": "python",
   "name": "python3"
  },
  "language_info": {
   "codemirror_mode": {
    "name": "ipython",
    "version": 3
   },
   "file_extension": ".py",
   "mimetype": "text/x-python",
   "name": "python",
   "nbconvert_exporter": "python",
   "pygments_lexer": "ipython3",
   "version": "3.7.2"
  }
 },
 "nbformat": 4,
 "nbformat_minor": 2
}
